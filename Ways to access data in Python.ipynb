{
 "cells": [
  {
   "cell_type": "code",
   "execution_count": null,
   "id": "82ea56bd",
   "metadata": {},
   "outputs": [],
   "source": [
    "#We can find datasets in 4 places \n",
    "#1/ Local files\n",
    "#2/ Databases\n",
    "#3/ APIs\n",
    "#4/ Dataset access libraries"
   ]
  },
  {
   "cell_type": "code",
   "execution_count": null,
   "id": "9cb9486b",
   "metadata": {},
   "outputs": [],
   "source": [
    "#The only major requirement is installing the pandas library \n",
    "$ pip install pandas\n"
   ]
  },
  {
   "cell_type": "code",
   "execution_count": null,
   "id": "2d1e1d94",
   "metadata": {},
   "outputs": [],
   "source": [
    "#1/ Local files\n",
    "#Often the data you need is stored in a local file on your computer. \n",
    "#Depending on where you’re running your Python environment, \n",
    "#you can either specify the filename as a relative or absolute path:"
   ]
  },
  {
   "cell_type": "code",
   "execution_count": null,
   "id": "0ca9b1a4",
   "metadata": {},
   "outputs": [],
   "source": [
    "# Absolute path\n",
    "file1 = \"~/Users/johnreid/Documents/my_project/data/example.csv\"\n",
    "# Relative path, assuming current working directory is my_project\n",
    "file2 = \"./data/example.csv\""
   ]
  },
  {
   "cell_type": "code",
   "execution_count": null,
   "id": "1a2be645",
   "metadata": {},
   "outputs": [],
   "source": [
    "#In local files, there are several types of files, such as cvs file or text file, \n",
    "#and depending on the type of file, we need to choose the appropriate code\n"
   ]
  },
  {
   "cell_type": "code",
   "execution_count": null,
   "id": "ce175cc2",
   "metadata": {},
   "outputs": [],
   "source": [
    "#csv file\n",
    "import pandas as pd\n",
    "csv_file = \"/Users/johnreid/Downloads/population-by-country.csv\"\n",
    "df_from_csv = pd.read_csv(csv_file)\n",
    "df_from_csv.info()\n",
    "\n",
    "\n",
    "#Excel file \n",
    "excel_file = \"/Users/johnreid/Downloads/Financial_Sample.xlsx\"\n",
    "df_from_excel = pd.read_excel(excel_file, sheet_name = \"Sheet1\")\n",
    "df_from_excel.info()\n",
    "\n",
    "\n",
    "#Text file\n",
    "shopping_list = \"/Users/johnreid/Downloads/shopping_list.txt\"\n",
    "results = []\n",
    "with open(shopping_list) as f:\n",
    "    line = f.readline()\n",
    "    while line:\n",
    "        results.append(line.strip().split(\" \"))\n",
    "        line = f.readline()\n",
    "f.close()\n",
    "df_from_textfile = pd.DataFrame(results, columns = [\"Item\", \"Quantity\"])\n",
    "\n"
   ]
  },
  {
   "cell_type": "code",
   "execution_count": null,
   "id": "f3ea6ef5",
   "metadata": {},
   "outputs": [],
   "source": [
    "#2/ APIs Like in our case (Artsy platform)\n",
    "import requests\n",
    "response = requests.get(\"https://www.artsy.net//astros.json\")\n",
    "res = pd.DataFrame(response.json()[\"people\"])\n",
    "res.head()\n"
   ]
  },
  {
   "cell_type": "code",
   "execution_count": null,
   "id": "cc35a847",
   "metadata": {},
   "outputs": [],
   "source": [
    "#3/ Dataset access libraries\n",
    "#Pandas_datareader\n",
    "from pandas_datareader import data\n",
    "import datetime as dt\n",
    "zm = data.DataReader(\n",
    "    \"ZM\",\n",
    "    start='2019-1-1',\n",
    "    end=dt.datetime.today(),\n",
    "    data_source='yahoo'\n",
    ").reset_index()\n",
    "zm.head()"
   ]
  },
  {
   "cell_type": "code",
   "execution_count": null,
   "id": "f875c716",
   "metadata": {},
   "outputs": [],
   "source": [
    "#DataCommons\n",
    "!pip install datacommons datacommons_pandas --upgrade --quiet\n",
    "import datacommons_pandas as dc\n",
    "import pandas as pd\n",
    "city_dcids = dc.get_property_values([\"CDC500_City\"], \"member\", limit=500)[\"CDC500_City\"]\n",
    "cdc500_df = dc.build_multivariate_dataframe(\n",
    "    city_dcids,\n",
    "    [\"Percent_Person_Obesity\",  # Prevalence of obesity from CDC\n",
    "    \"Median_Income_Person\",\n",
    "    \"Median_Age_Person\",\n",
    "    \"UnemploymentRate_Person\",  # Unemployment rate from BLS\n",
    "    \"Count_Person_BelowPovertyLevelInThePast12Months\",  # Persons living below the poverty line from Census\n",
    "    \"Count_Person\",  # Total population from Census\n",
    "    ],\n",
    ")\n",
    "cdc500_df.info()"
   ]
  },
  {
   "cell_type": "code",
   "execution_count": null,
   "id": "5e6a3c0e",
   "metadata": {},
   "outputs": [],
   "source": [
    "#Kaggle\n",
    "$ pip install kaggle\n",
    "$ export KAGGLE_USERNAME=datadinosaur\n",
    "$ export KAGGLE_KEY=xxxxxxxxxxxxxx\n",
    "$ kaggle datasets download zillow/zecon\n",
    "$ unzip zecon.zip\n",
    "import pandas as pd\n",
    "csv_file = \"/Users/johnreid/Downloads/Zip_time_series.csv\"\n",
    "df_from_csv = pd.read_csv(csv_file)\n",
    "df_from_csv.info()"
   ]
  },
  {
   "cell_type": "code",
   "execution_count": null,
   "id": "80535ace",
   "metadata": {},
   "outputs": [],
   "source": [
    "#To learn more, check out the Kaggle API documentation in kaggle-api-master folder.\n",
    "\n"
   ]
  }
 ],
 "metadata": {
  "kernelspec": {
   "display_name": "Python 3",
   "language": "python",
   "name": "python3"
  },
  "language_info": {
   "codemirror_mode": {
    "name": "ipython",
    "version": 3
   },
   "file_extension": ".py",
   "mimetype": "text/x-python",
   "name": "python",
   "nbconvert_exporter": "python",
   "pygments_lexer": "ipython3",
   "version": "3.8.8"
  }
 },
 "nbformat": 4,
 "nbformat_minor": 5
}
